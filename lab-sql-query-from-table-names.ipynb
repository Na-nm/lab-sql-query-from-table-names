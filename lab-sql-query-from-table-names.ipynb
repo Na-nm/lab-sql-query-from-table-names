{
 "cells": [
  {
   "cell_type": "markdown",
   "id": "00a57394-53dd-47cd-a5e7-6e7122bbb0f6",
   "metadata": {},
   "source": [
    "# SQL query from table names"
   ]
  },
  {
   "cell_type": "markdown",
   "id": "86bc2813-763c-49f2-9f5d-e1f87a20556f",
   "metadata": {
    "id": "86bc2813-763c-49f2-9f5d-e1f87a20556f"
   },
   "source": [
    "In This notebook we are going to test if using just the name of the table, and a shord definition of its contect we can use a model like GTP3.5-Turbo to select which tables are necessary to create a SQL Order to answer the user petition."
   ]
  },
  {
   "cell_type": "code",
   "execution_count": 1,
   "id": "7fbbdf5b-4d7f-4496-8f40-9d15ea46d023",
   "metadata": {
    "id": "7fbbdf5b-4d7f-4496-8f40-9d15ea46d023"
   },
   "outputs": [],
   "source": [
    "from openai import OpenAI\n",
    "import os\n",
    "from dotenv import load_dotenv, find_dotenv\n",
    "_ = load_dotenv(find_dotenv())\n",
    "\n",
    "OPENAI_API_KEY  = os.getenv('OPENAI_API_KEY')"
   ]
  },
  {
   "cell_type": "code",
   "execution_count": 2,
   "id": "e480bbfb-9a80-4ea6-b792-067e63ae3148",
   "metadata": {
    "id": "e480bbfb-9a80-4ea6-b792-067e63ae3148"
   },
   "outputs": [],
   "source": [
    "#Functio to call the model.\n",
    "def return_OAI(user_message):\n",
    "    client = OpenAI(\n",
    "    # This is the default and can be omitted\n",
    "    api_key=OPENAI_API_KEY,\n",
    ")\n",
    "    context = []\n",
    "    context.append({'role':'system', \"content\": user_message})\n",
    "\n",
    "    response = client.chat.completions.create(\n",
    "            model=\"gpt-3.5-turbo\",\n",
    "            messages=context,\n",
    "            temperature=0,\n",
    "        )\n",
    "\n",
    "    return (response.choices[0].message.content)"
   ]
  },
  {
   "cell_type": "code",
   "execution_count": 3,
   "id": "6d5d2bdc-d822-4ed8-815e-b3f223730f15",
   "metadata": {
    "id": "6d5d2bdc-d822-4ed8-815e-b3f223730f15",
    "outputId": "61068bf0-41e3-40d9-b453-b76da5b0f086"
   },
   "outputs": [
    {
     "name": "stdout",
     "output_type": "stream",
     "text": [
      "            table                                         definition\n",
      "0         players  Stores player details, including username, ema...\n",
      "1         matches  Contains match records, including match ID, da...\n",
      "2  player_matches  Links players to matches, storing player ID, m...\n",
      "3    leaderboards  Maintains ranking details of players based on ...\n",
      "4    achievements  Tracks in-game achievements unlocked by player...\n"
     ]
    }
   ],
   "source": [
    "#Definition of the tables.\n",
    "import pandas as pd\n",
    "\n",
    "# Table and definitions for a multiplayer game\n",
    "data = [\n",
    "    {\"table\": \"players\", \"definition\": \"Stores player details, including username, email, registration date, and level.\"},\n",
    "    {\"table\": \"matches\", \"definition\": \"Contains match records, including match ID, date, game mode, and duration.\"},\n",
    "    {\"table\": \"player_matches\", \"definition\": \"Links players to matches, storing player ID, match ID, score, and performance metrics.\"},\n",
    "    {\"table\": \"leaderboards\", \"definition\": \"Maintains ranking details of players based on points and achievements.\"},\n",
    "    {\"table\": \"achievements\", \"definition\": \"Tracks in-game achievements unlocked by players, including achievement type and date earned.\"},\n",
    "]\n",
    "df = pd.DataFrame(data)\n",
    "print(df)"
   ]
  },
  {
   "cell_type": "code",
   "execution_count": 5,
   "id": "009e681c-d95d-4c9c-b044-5bfd76e3ad95",
   "metadata": {
    "id": "009e681c-d95d-4c9c-b044-5bfd76e3ad95"
   },
   "outputs": [],
   "source": [
    "text_tables = '\\n'.join([f\"{row['table']}: {row['definition']}\" for index, row in df.iterrows()])"
   ]
  },
  {
   "cell_type": "code",
   "execution_count": 6,
   "id": "fe03ac25-8d02-4cd1-99a1-be4220c6fd2d",
   "metadata": {
    "id": "fe03ac25-8d02-4cd1-99a1-be4220c6fd2d",
    "outputId": "c1f3aab1-5f26-48fe-fcf9-3780120f5aad"
   },
   "outputs": [
    {
     "name": "stdout",
     "output_type": "stream",
     "text": [
      "players: Stores player details, including username, email, registration date, and level.\n",
      "matches: Contains match records, including match ID, date, game mode, and duration.\n",
      "player_matches: Links players to matches, storing player ID, match ID, score, and performance metrics.\n",
      "leaderboards: Maintains ranking details of players based on points and achievements.\n",
      "achievements: Tracks in-game achievements unlocked by players, including achievement type and date earned.\n"
     ]
    }
   ],
   "source": [
    "print(text_tables)"
   ]
  },
  {
   "cell_type": "code",
   "execution_count": 7,
   "id": "c7e275ae-f20d-4134-b9b6-d8677dfb544c",
   "metadata": {
    "id": "c7e275ae-f20d-4134-b9b6-d8677dfb544c"
   },
   "outputs": [],
   "source": [
    "prompt_question_tables = \"\"\"\n",
    "Given the following tables and their content definitions,\n",
    "###Tables\n",
    "{tables}\n",
    "\n",
    "Tell me which tables would be necessary to query with SQL to address the user's question below.\n",
    "Return the table names in a json format.\n",
    "###User Questyion:\n",
    "{question}\n",
    "\"\"\"\n"
   ]
  },
  {
   "cell_type": "code",
   "execution_count": 8,
   "id": "b1cb5957-2df2-4e5e-9e6a-ace955c9817e",
   "metadata": {
    "id": "b1cb5957-2df2-4e5e-9e6a-ace955c9817e"
   },
   "outputs": [],
   "source": [
    "#Creating the prompt, with the user questions and the tables definitions.\n",
    "userQ = \"Who are the top 10 players with the highest total score in ranked matches this season?\"\n",
    "pqt1 = prompt_question_tables.format(tables=text_tables, question=userQ)"
   ]
  },
  {
   "cell_type": "code",
   "execution_count": 9,
   "id": "10d30f2b-6c23-4fd6-8038-840fba784cce",
   "metadata": {
    "id": "10d30f2b-6c23-4fd6-8038-840fba784cce",
    "outputId": "9924022c-7b2b-4ec8-e2c2-75bc1c745151",
    "scrolled": true
   },
   "outputs": [
    {
     "name": "stdout",
     "output_type": "stream",
     "text": [
      "{\n",
      "    \"tables\": [\"players\", \"matches\", \"player_matches\"]\n",
      "}\n"
     ]
    }
   ],
   "source": [
    "print(return_OAI(pqt1))"
   ]
  },
  {
   "cell_type": "code",
   "execution_count": 10,
   "id": "57e07083-be8f-4cd0-95bd-c4b909422c6b",
   "metadata": {
    "id": "57e07083-be8f-4cd0-95bd-c4b909422c6b"
   },
   "outputs": [],
   "source": [
    "userQ = \"Which player has completed the most achievements?\"\n",
    "pqt3 = prompt_question_tables.format(tables=text_tables, question=userQ)"
   ]
  },
  {
   "cell_type": "code",
   "execution_count": 11,
   "id": "a0eeb79e-caf1-4f48-9897-168d95d2ae37",
   "metadata": {
    "id": "a0eeb79e-caf1-4f48-9897-168d95d2ae37",
    "outputId": "81d77115-9cad-4284-a228-5368bb9aa6fb"
   },
   "outputs": [
    {
     "name": "stdout",
     "output_type": "stream",
     "text": [
      "{\n",
      "    \"tables\": [\"players\", \"achievements\"]\n",
      "}\n"
     ]
    }
   ],
   "source": [
    "print(return_OAI(pqt3))"
   ]
  },
  {
   "cell_type": "markdown",
   "id": "321bb9a2-4937-4e9a-a31b-7049cb8f5aa3",
   "metadata": {
    "id": "321bb9a2-4937-4e9a-a31b-7049cb8f5aa3"
   },
   "source": [
    "# Exercise\n",
    " - Complete the prompts similar to what we did in class. \n",
    "     - Try a few versions if you have time\n",
    "     - Be creative\n",
    " - Write a one page report summarizing your findings.\n",
    "     - Were there variations that didn't work well? i.e., where GPT either hallucinated or wrong\n",
    " - What did you learn?"
   ]
  },
  {
   "cell_type": "code",
   "execution_count": 12,
   "id": "78ba8699",
   "metadata": {},
   "outputs": [],
   "source": [
    "# Table definitions for a battle royale game\n",
    "data = [\n",
    "    {\"table\": \"players\", \"definition\": \"Stores player details, including username, rank, and total matches played.\"},\n",
    "    {\"table\": \"matches\", \"definition\": \"Contains battle royale match details such as match ID, start time, and total players.\"},\n",
    "    {\"table\": \"player_matches\", \"definition\": \"Tracks player participation in matches, including kills, damage dealt, and survival time.\"},\n",
    "    {\"table\": \"weapons\", \"definition\": \"Stores information about weapons, including damage, type, and availability.\"},\n",
    "    {\"table\": \"player_weapons\", \"definition\": \"Links players to weapons used in matches, tracking kills and accuracy per weapon.\"},\n",
    "]\n",
    "\n",
    "df = pd.DataFrame(data)\n",
    "\n",
    "text_tables = '\\n'.join([f\"{row['table']}: {row['definition']}\" for _, row in df.iterrows()])\n"
   ]
  },
  {
   "cell_type": "code",
   "execution_count": 14,
   "id": "c6a0713b",
   "metadata": {},
   "outputs": [
    {
     "name": "stdout",
     "output_type": "stream",
     "text": [
      "{\n",
      "    \"tables\": [\"weapons\", \"player_weapons\", \"player_matches\"]\n",
      "}\n"
     ]
    }
   ],
   "source": [
    "userQ = \"Which weapon has the highest average kill rate in solo matches?\"\n",
    "pqt01 = prompt_question_tables.format(tables=text_tables, question=userQ)\n",
    "print(return_OAI(pqt01))"
   ]
  },
  {
   "cell_type": "code",
   "execution_count": 15,
   "id": "34945791",
   "metadata": {},
   "outputs": [
    {
     "name": "stdout",
     "output_type": "stream",
     "text": [
      "{\n",
      "    \"tables\": [\"matches\", \"player_matches\"]\n",
      "}\n"
     ]
    }
   ],
   "source": [
    "userQ = \"Which landing zone has the highest survival rate in the first 5 minutes of a match?\"\n",
    "pqt02 = prompt_question_tables.format(tables=text_tables, question=userQ)\n",
    "print(return_OAI(pqt02))"
   ]
  },
  {
   "cell_type": "code",
   "execution_count": 16,
   "id": "9061e7b6",
   "metadata": {},
   "outputs": [
    {
     "name": "stdout",
     "output_type": "stream",
     "text": [
      "{\n",
      "    \"tables\": [\"weapons\", \"player_weapons\"]\n",
      "}\n"
     ]
    }
   ],
   "source": [
    "userQ = \"Which weapon has the highest headshot accuracy across all players?\"\n",
    "pqt03 = prompt_question_tables.format(tables=text_tables, question=userQ)\n",
    "print(return_OAI(pqt03))"
   ]
  },
  {
   "cell_type": "code",
   "execution_count": 17,
   "id": "f443be71",
   "metadata": {},
   "outputs": [
    {
     "name": "stdout",
     "output_type": "stream",
     "text": [
      "{\n",
      "    \"tables\": [\"players\", \"matches\", \"player_matches\"]\n",
      "}\n"
     ]
    }
   ],
   "source": [
    "userQ = \"Which players have won the most matches in squad mode this season?\"\n",
    "pqt04 = prompt_question_tables.format(tables=text_tables, question=userQ)\n",
    "print(return_OAI(pqt04))"
   ]
  },
  {
   "cell_type": "markdown",
   "id": "53f40e6e",
   "metadata": {},
   "source": [
    "### Report on GPT-Generated SQL Table Selection for Gaming Analytics\n",
    "    During testing, GPT-3.5 Turbo effectively identified relevant tables for SQL queries in Online Multiplayer Game – Player Stats and Leaderboards and Battle Royale Game – Match Analytics scenarios. \n",
    "\n",
    "- Key Learnings:\n",
    "    - Clear Table Definitions Improve Accuracy – Well-structured definitions reduce hallucinations.\n",
    "\n",
    "    - JSON Output Helps Parsing – Structured responses make it easier to validate and refine table selection.\n"
   ]
  }
 ],
 "metadata": {
  "colab": {
   "include_colab_link": true,
   "provenance": []
  },
  "kernelspec": {
   "display_name": "Python 3",
   "language": "python",
   "name": "python3"
  },
  "language_info": {
   "codemirror_mode": {
    "name": "ipython",
    "version": 3
   },
   "file_extension": ".py",
   "mimetype": "text/x-python",
   "name": "python",
   "nbconvert_exporter": "python",
   "pygments_lexer": "ipython3",
   "version": "3.8.3"
  }
 },
 "nbformat": 4,
 "nbformat_minor": 5
}
